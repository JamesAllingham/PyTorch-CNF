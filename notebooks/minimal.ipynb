{
 "cells": [
  {
   "cell_type": "code",
   "execution_count": 1,
   "metadata": {},
   "outputs": [],
   "source": [
    "%load_ext autoreload\n",
    "%autoreload 2\n",
    "    \n",
    "import numpy as np\n",
    "\n",
    "from scipy.stats import multivariate_normal\n",
    "\n",
    "import torch\n",
    "import torch.nn as nn\n",
    "import torch.optim as optim\n",
    "\n",
    "# from torchdiffeq import odeint_adjoint as odeint\n",
    "from torchdiffeq import odeint"
   ]
  },
  {
   "cell_type": "code",
   "execution_count": 2,
   "metadata": {},
   "outputs": [],
   "source": [
    "def get_batch(batch_size):\n",
    "    np.random.seed(42)\n",
    "    p = multivariate_normal(mean=[0., 0.], cov=[[1., 0.], [0., 1.]])\n",
    "    z_0 = p.rvs(batch_size)\n",
    "    logpz_0 = p.logpdf(z_0).reshape(-1, 1)\n",
    "\n",
    "    return (torch.tensor(z_0, dtype=torch.float32), torch.tensor(logpz_0, dtype=torch.float32))"
   ]
  },
  {
   "cell_type": "code",
   "execution_count": 3,
   "metadata": {},
   "outputs": [],
   "source": [
    "def trace_df_dz(f, z):\n",
    "    sum_diag = 0.\n",
    "    for i in range(z.shape[1]):\n",
    "        sum_diag += torch.autograd.grad(f[:, i].sum(), z, create_graph=True)[0].contiguous()[:, i].contiguous()\n",
    "        \n",
    "    return sum_diag.contiguous()\n",
    "\n",
    "class ContinuousPlanarFlow(nn.Module):\n",
    "\n",
    "    def __init__(self):\n",
    "        super(ContinuousPlanarFlow, self).__init__()\n",
    "\n",
    "        self.diffeq = nn.Linear(2, 2)\n",
    "\n",
    "    def forward(self, t, states):\n",
    "        z = states[:,:2]\n",
    "\n",
    "        batchsize = z.shape[0]\n",
    "\n",
    "        with torch.set_grad_enabled(True):\n",
    "            z.requires_grad_(True)\n",
    "\n",
    "            dz_dt = self.diffeq(z)\n",
    "            dlogpz_dt = -trace_df_dz(dz_dt, z).view(batchsize, 1)\n",
    "\n",
    "\n",
    "            res = torch.cat([dz_dt, dlogpz_dt], 1)\n",
    "            \n",
    "        return res"
   ]
  },
  {
   "cell_type": "code",
   "execution_count": 4,
   "metadata": {},
   "outputs": [],
   "source": [
    "# hyper_params\n",
    "batch_size = 1000"
   ]
  },
  {
   "cell_type": "code",
   "execution_count": 5,
   "metadata": {},
   "outputs": [
    {
     "name": "stdout",
     "output_type": "stream",
     "text": [
      "tensor(0.6565, grad_fn=<NegBackward>)\n",
      "tensor(0.6558, grad_fn=<NegBackward>)\n",
      "tensor(0.6552, grad_fn=<NegBackward>)\n",
      "tensor(0.6546, grad_fn=<NegBackward>)\n",
      "tensor(0.6539, grad_fn=<NegBackward>)\n",
      "tensor(0.6533, grad_fn=<NegBackward>)\n",
      "tensor(0.6527, grad_fn=<NegBackward>)\n",
      "tensor(0.6520, grad_fn=<NegBackward>)\n",
      "tensor(0.6514, grad_fn=<NegBackward>)\n",
      "tensor(0.6508, grad_fn=<NegBackward>)\n",
      "tensor(0.6502, grad_fn=<NegBackward>)\n",
      "tensor(0.6495, grad_fn=<NegBackward>)\n",
      "tensor(0.6489, grad_fn=<NegBackward>)\n",
      "tensor(0.6483, grad_fn=<NegBackward>)\n",
      "tensor(0.6476, grad_fn=<NegBackward>)\n",
      "tensor(0.6470, grad_fn=<NegBackward>)\n",
      "tensor(0.6464, grad_fn=<NegBackward>)\n",
      "tensor(0.6458, grad_fn=<NegBackward>)\n",
      "tensor(0.6451, grad_fn=<NegBackward>)\n",
      "tensor(0.6445, grad_fn=<NegBackward>)\n"
     ]
    }
   ],
   "source": [
    "odefunc = ContinuousPlanarFlow()\n",
    "\n",
    "optimizer = optim.Adam(odefunc.parameters(), lr=1e-3, weight_decay=0.)\n",
    "\n",
    "for itr in range(1, 20 + 1):\n",
    "    optimizer.zero_grad()\n",
    "    z_0, logpz_0 = get_batch(batch_size)\n",
    "    res = odeint(\n",
    "            odefunc,\n",
    "#             (z_0, logpz_0),\n",
    "            torch.cat([z_0, logpz_0], 1),\n",
    "            torch.tensor([0., 1.]).to(z_0),\n",
    "            atol=1e-5,\n",
    "            rtol=1e-5,\n",
    "            method='dopri5',\n",
    "        )\n",
    "\n",
    "#     dz_dt = dz_dt[1]\n",
    "#     logpz_t = logpz_t[1]\n",
    "    dz_dt = res[:,:2]\n",
    "    logpz_t = res[:,2]\n",
    "        \n",
    "    loss = -logpz_t.mean()\n",
    "    print(loss)\n",
    "    loss.backward()\n",
    "    optimizer.step()"
   ]
  },
  {
   "cell_type": "code",
   "execution_count": null,
   "metadata": {},
   "outputs": [],
   "source": []
  },
  {
   "cell_type": "code",
   "execution_count": null,
   "metadata": {},
   "outputs": [],
   "source": []
  }
 ],
 "metadata": {
  "kernelspec": {
   "display_name": "cnf",
   "language": "python",
   "name": "cnf"
  },
  "language_info": {
   "codemirror_mode": {
    "name": "ipython",
    "version": 3
   },
   "file_extension": ".py",
   "mimetype": "text/x-python",
   "name": "python",
   "nbconvert_exporter": "python",
   "pygments_lexer": "ipython3",
   "version": "3.7.6"
  }
 },
 "nbformat": 4,
 "nbformat_minor": 4
}
