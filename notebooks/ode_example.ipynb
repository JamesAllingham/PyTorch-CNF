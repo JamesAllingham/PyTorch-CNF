{
 "cells": [
  {
   "cell_type": "code",
   "execution_count": 1,
   "metadata": {},
   "outputs": [],
   "source": [
    "%load_ext autoreload\n",
    "%autoreload 2\n",
    "\n",
    "import os\n",
    "import sys\n",
    "N_up = 1\n",
    "repo_dir = '/'.join(os.getcwd().split('/')[:-N_up])\n",
    "if repo_dir not in sys.path:\n",
    "    sys.path.append(repo_dir)\n",
    "    \n",
    "import numpy as np\n",
    "\n",
    "from scipy.stats import multivariate_normal\n",
    "\n",
    "%matplotlib inline\n",
    "import matplotlib.pyplot as plt\n",
    "\n",
    "import torch\n",
    "import torch.nn as nn\n",
    "import torch.optim as optim\n",
    "import torch.nn.functional as F\n",
    "\n",
    "from torchdiffeq import odeint_adjoint as odeint\n",
    "# from torchdiffeq import odeint\n",
    "\n",
    "from src.datasets import energy_function_1, energy_function_2, energy_function_3, energy_function_4"
   ]
  },
  {
   "cell_type": "code",
   "execution_count": 2,
   "metadata": {},
   "outputs": [],
   "source": [
    "device = torch.device(\"cuda:0\" if torch.cuda.is_available() else \"cpu\")\n",
    "cvt = lambda x: torch.tensor(x).type(torch.float32).to(device, non_blocking=True)"
   ]
  },
  {
   "cell_type": "code",
   "execution_count": 3,
   "metadata": {},
   "outputs": [],
   "source": [
    "def get_batch(batch_size):\n",
    "    p = multivariate_normal(mean=[0., 0.], cov=[[1., 0.], [0., 1.]])\n",
    "    z_0 = p.rvs(batch_size)\n",
    "    logpz_0 = p.logpdf(z_0).reshape(-1, 1)\n",
    "\n",
    "    return (cvt(z_0), cvt(logpz_0))"
   ]
  },
  {
   "cell_type": "code",
   "execution_count": 4,
   "metadata": {},
   "outputs": [],
   "source": [
    "def trace_df_dz(f, z):\n",
    "    sum_diag = 0.\n",
    "    for i in range(z.shape[1]):\n",
    "        sum_diag += torch.autograd.grad(f[:, i].sum(), z, create_graph=True)[0].contiguous()[:, i].contiguous()\n",
    "        \n",
    "    return sum_diag.contiguous()\n",
    "    \n",
    "class CNF(nn.Module):\n",
    "    \n",
    "    def __init__(self, width, in_out_dim, hidden_dim):\n",
    "        super(CNF, self).__init__()\n",
    "        \n",
    "        self.width = width\n",
    "        self.in_out_dim = in_out_dim\n",
    "        self.hidden_dim = hidden_dim\n",
    "        \n",
    "        self.hyper = nn.Sequential(\n",
    "            nn.Linear(1, hidden_dim),\n",
    "            nn.Tanh(),\n",
    "            nn.Linear(hidden_dim, hidden_dim),\n",
    "            nn.Tanh(),\n",
    "            nn.Linear(hidden_dim, in_out_dim*width*3 + width)\n",
    "        )\n",
    "        # TODO: init weights properly\n",
    "        \n",
    "    def forward(self, t, states):\n",
    "        \n",
    "        with torch.set_grad_enabled(True):\n",
    "            z = states[0]\n",
    "            logp_z = states[1]\n",
    "            \n",
    "            batchsize = z.shape[0]\n",
    "            \n",
    "            params = self.hyper(t.reshape(1, 1))\n",
    "\n",
    "            dz_dt = torch.zeros_like(z)\n",
    "            dlogp_z_dt = torch.zeros_like(logp_z)\n",
    "            \n",
    "            z.requires_grad_(True)\n",
    "            t.requires_grad_(True)\n",
    "\n",
    "            for n in range(self.width):\n",
    "                w = params[:, n*self.in_out_dim:\n",
    "                           (n+1)*self.in_out_dim]\n",
    "                u = params[:, n*self.in_out_dim + self.in_out_dim*self.width:\n",
    "                           (n+1)*self.in_out_dim + self.in_out_dim*self.width]\n",
    "                g = params[:, n*self.in_out_dim + self.in_out_dim*self.width*2:\n",
    "                           (n+1)*self.in_out_dim + self.in_out_dim*self.width*2]\n",
    "                b = params[:, self.in_out_dim*self.width*3 + n:\n",
    "                           self.in_out_dim*self.width*3 + n + 1]\n",
    "\n",
    "                dz_dt_n = torch.sigmoid(g) * u * torch.tanh(torch.mm(z, w.T) + b)\n",
    "                dlogp_z_dt_n = -trace_df_dz(dz_dt_n, z).view(batchsize, 1)\n",
    "\n",
    "                dz_dt += dz_dt_n\n",
    "                dlogp_z_dt += dlogp_z_dt_n\n",
    "            \n",
    "        return (dz_dt, dlogp_z_dt)"
   ]
  },
  {
   "cell_type": "code",
   "execution_count": 5,
   "metadata": {},
   "outputs": [],
   "source": [
    "# hyper_params\n",
    "batch_size = 1000\n",
    "width = 50"
   ]
  },
  {
   "cell_type": "code",
   "execution_count": 6,
   "metadata": {
    "scrolled": true
   },
   "outputs": [
    {
     "name": "stdout",
     "output_type": "stream",
     "text": [
      "Iter 0010 | KLD 26.786135\n",
      "Iter 0020 | KLD 23.647106\n",
      "Iter 0030 | KLD 22.435436\n",
      "Iter 0040 | KLD 20.415962\n",
      "Iter 0050 | KLD 17.467667\n",
      "Iter 0060 | KLD 10.214657\n",
      "Iter 0070 | KLD 3.721692\n",
      "Iter 0080 | KLD 0.063210\n",
      "Iter 0090 | KLD -1.878945\n",
      "Iter 0100 | KLD -3.780388\n"
     ]
    },
    {
     "ename": "KeyboardInterrupt",
     "evalue": "",
     "output_type": "error",
     "traceback": [
      "\u001b[0;31m---------------------------------------------------------------------------\u001b[0m",
      "\u001b[0;31mKeyboardInterrupt\u001b[0m                         Traceback (most recent call last)",
      "\u001b[0;32m<ipython-input-6-71fd13b1395c>\u001b[0m in \u001b[0;36m<module>\u001b[0;34m\u001b[0m\n\u001b[1;32m     33\u001b[0m     \u001b[0mloss\u001b[0m \u001b[0;34m=\u001b[0m \u001b[0mcalc_loss\u001b[0m\u001b[0;34m(\u001b[0m\u001b[0mz_t\u001b[0m\u001b[0;34m,\u001b[0m \u001b[0mlogpz_t\u001b[0m\u001b[0;34m)\u001b[0m\u001b[0;34m\u001b[0m\u001b[0;34m\u001b[0m\u001b[0m\n\u001b[1;32m     34\u001b[0m \u001b[0;34m\u001b[0m\u001b[0m\n\u001b[0;32m---> 35\u001b[0;31m     \u001b[0mloss\u001b[0m\u001b[0;34m.\u001b[0m\u001b[0mbackward\u001b[0m\u001b[0;34m(\u001b[0m\u001b[0;34m)\u001b[0m\u001b[0;34m\u001b[0m\u001b[0;34m\u001b[0m\u001b[0m\n\u001b[0m\u001b[1;32m     36\u001b[0m     \u001b[0moptimizer\u001b[0m\u001b[0;34m.\u001b[0m\u001b[0mstep\u001b[0m\u001b[0;34m(\u001b[0m\u001b[0;34m)\u001b[0m\u001b[0;34m\u001b[0m\u001b[0;34m\u001b[0m\u001b[0m\n\u001b[1;32m     37\u001b[0m \u001b[0;34m\u001b[0m\u001b[0m\n",
      "\u001b[0;32m~/.virtualenvs/cnf/lib/python3.7/site-packages/torch/tensor.py\u001b[0m in \u001b[0;36mbackward\u001b[0;34m(self, gradient, retain_graph, create_graph)\u001b[0m\n\u001b[1;32m    193\u001b[0m                 \u001b[0mproducts\u001b[0m\u001b[0;34m.\u001b[0m \u001b[0mDefaults\u001b[0m \u001b[0mto\u001b[0m\u001b[0;31m \u001b[0m\u001b[0;31m`\u001b[0m\u001b[0;31m`\u001b[0m\u001b[0;32mFalse\u001b[0m\u001b[0;31m`\u001b[0m\u001b[0;31m`\u001b[0m\u001b[0;34m.\u001b[0m\u001b[0;34m\u001b[0m\u001b[0;34m\u001b[0m\u001b[0m\n\u001b[1;32m    194\u001b[0m         \"\"\"\n\u001b[0;32m--> 195\u001b[0;31m         \u001b[0mtorch\u001b[0m\u001b[0;34m.\u001b[0m\u001b[0mautograd\u001b[0m\u001b[0;34m.\u001b[0m\u001b[0mbackward\u001b[0m\u001b[0;34m(\u001b[0m\u001b[0mself\u001b[0m\u001b[0;34m,\u001b[0m \u001b[0mgradient\u001b[0m\u001b[0;34m,\u001b[0m \u001b[0mretain_graph\u001b[0m\u001b[0;34m,\u001b[0m \u001b[0mcreate_graph\u001b[0m\u001b[0;34m)\u001b[0m\u001b[0;34m\u001b[0m\u001b[0;34m\u001b[0m\u001b[0m\n\u001b[0m\u001b[1;32m    196\u001b[0m \u001b[0;34m\u001b[0m\u001b[0m\n\u001b[1;32m    197\u001b[0m     \u001b[0;32mdef\u001b[0m \u001b[0mregister_hook\u001b[0m\u001b[0;34m(\u001b[0m\u001b[0mself\u001b[0m\u001b[0;34m,\u001b[0m \u001b[0mhook\u001b[0m\u001b[0;34m)\u001b[0m\u001b[0;34m:\u001b[0m\u001b[0;34m\u001b[0m\u001b[0;34m\u001b[0m\u001b[0m\n",
      "\u001b[0;32m~/.virtualenvs/cnf/lib/python3.7/site-packages/torch/autograd/__init__.py\u001b[0m in \u001b[0;36mbackward\u001b[0;34m(tensors, grad_tensors, retain_graph, create_graph, grad_variables)\u001b[0m\n\u001b[1;32m     97\u001b[0m     Variable._execution_engine.run_backward(\n\u001b[1;32m     98\u001b[0m         \u001b[0mtensors\u001b[0m\u001b[0;34m,\u001b[0m \u001b[0mgrad_tensors\u001b[0m\u001b[0;34m,\u001b[0m \u001b[0mretain_graph\u001b[0m\u001b[0;34m,\u001b[0m \u001b[0mcreate_graph\u001b[0m\u001b[0;34m,\u001b[0m\u001b[0;34m\u001b[0m\u001b[0;34m\u001b[0m\u001b[0m\n\u001b[0;32m---> 99\u001b[0;31m         allow_unreachable=True)  # allow_unreachable flag\n\u001b[0m\u001b[1;32m    100\u001b[0m \u001b[0;34m\u001b[0m\u001b[0m\n\u001b[1;32m    101\u001b[0m \u001b[0;34m\u001b[0m\u001b[0m\n",
      "\u001b[0;31mKeyboardInterrupt\u001b[0m: "
     ]
    }
   ],
   "source": [
    "odefunc = CNF(\n",
    "    width = 32,\n",
    "    in_out_dim = 2,\n",
    "    hidden_dim = 8\n",
    ")\n",
    "\n",
    "if device != \"cpu\":\n",
    "    odefunc = odefunc.cuda()\n",
    "\n",
    "optimizer = optim.Adam(odefunc.parameters(), lr=1e-3, weight_decay=0.)\n",
    "\n",
    "def calc_loss(z_t, logqz_t):\n",
    "    logpz_t = energy_function_1(z_t)\n",
    "\n",
    "    KLD = -logqz_t + logpz_t\n",
    "    return KLD.mean()\n",
    "\n",
    "for itr in range(1, 200 + 1):\n",
    "    optimizer.zero_grad()\n",
    "    z_0, logpz_0 = get_batch(batch_size)\n",
    "    \n",
    "    z_t, logpz_t = odeint(\n",
    "            odefunc,\n",
    "            (z_0, logpz_0),\n",
    "            torch.tensor([0., 1.]).to(z_0),\n",
    "            atol=1e-5,\n",
    "            rtol=1e-5,\n",
    "            method='dopri5',\n",
    "        )\n",
    "\n",
    "    z_t, logpz_t = z_t[1], logpz_t[1]\n",
    "        \n",
    "    loss = calc_loss(z_t, logpz_t)\n",
    "\n",
    "    loss.backward()\n",
    "    optimizer.step()\n",
    "\n",
    "    if itr % 10 == 0:\n",
    "        with torch.no_grad():\n",
    "            z_0, logpz_0 = get_batch(batch_size)\n",
    "    \n",
    "            z_t, logpz_t = odeint(\n",
    "                    odefunc,\n",
    "                    (z_0, logpz_0),\n",
    "                    torch.tensor([0., 1.]).to(z_0),\n",
    "                    atol=1e-5,\n",
    "                    rtol=1e-5,\n",
    "                    method='dopri5',\n",
    "                )\n",
    "\n",
    "            z_t, logpz_t = z_t[1], logpz_t[1]\n",
    "\n",
    "            KLD = calc_loss(z_t, logpz_t)\n",
    "            print('Iter {:04d} | KLD {:.6f}'.format(itr, KLD.item()))"
   ]
  },
  {
   "cell_type": "code",
   "execution_count": 7,
   "metadata": {},
   "outputs": [
    {
     "data": {
      "image/png": "[encoded data removed]",
      "text/plain": [
       "<Figure size 432x288 with 1 Axes>"
      ]
     },
     "metadata": {
      "needs_background": "light"
     },
     "output_type": "display_data"
    }
   ],
   "source": [
    "z_0, logpz_0 = get_batch(batch_size)\n",
    "    \n",
    "z_t, logpz_t = odeint(\n",
    "        odefunc,\n",
    "        (z_0, logpz_0),\n",
    "        torch.tensor([0., 1.]).to(z_0),\n",
    "        atol=1e-5,\n",
    "        rtol=1e-5,\n",
    "        method='dopri5',\n",
    "    )\n",
    "\n",
    "z_t, logpz_t = z_t[1], logpz_t[1]\n",
    "\n",
    "xy = z_t.cpu().detach().numpy()\n",
    "\n",
    "plt.scatter(xy[:, 0], xy[:, 1])\n",
    "# plt.xlim(-4, 4)\n",
    "# plt.ylim(-4, 4)\n",
    "plt.gca().set_aspect('equal', adjustable='box')\n",
    "# plt.xticks([])\n",
    "# plt.yticks([])\n",
    "plt.show()"
   ]
  },
  {
   "cell_type": "code",
   "execution_count": 8,
   "metadata": {},
   "outputs": [
    {
     "data": {
      "image/png": "[encoded data removed]",
      "text/plain": [
       "<Figure size 432x288 with 1 Axes>"
      ]
     },
     "metadata": {
      "needs_background": "light"
     },
     "output_type": "display_data"
    }
   ],
   "source": [
    "xy = z_0.cpu().detach().numpy()\n",
    "\n",
    "plt.scatter(xy[:, 0], xy[:, 1])\n",
    "plt.xlim(-4, 4)\n",
    "plt.ylim(-4, 4)\n",
    "plt.gca().set_aspect('equal', adjustable='box')\n",
    "# plt.xticks([])\n",
    "# plt.yticks([])\n",
    "plt.show()"
   ]
  },
  {
   "cell_type": "code",
   "execution_count": null,
   "metadata": {},
   "outputs": [],
   "source": []
  }
 ],
 "metadata": {
  "kernelspec": {
   "display_name": "cnf",
   "language": "python",
   "name": "cnf"
  },
  "language_info": {
   "codemirror_mode": {
    "name": "ipython",
    "version": 3
   },
   "file_extension": ".py",
   "mimetype": "text/x-python",
   "name": "python",
   "nbconvert_exporter": "python",
   "pygments_lexer": "ipython3",
   "version": "3.7.6"
  }
 },
 "nbformat": 4,
 "nbformat_minor": 4
}
